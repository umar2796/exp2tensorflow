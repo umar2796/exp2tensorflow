{
 "cells": [
  {
   "cell_type": "code",
   "execution_count": 1,
   "id": "21a273da",
   "metadata": {},
   "outputs": [],
   "source": [
    "import pandas as pd\n",
    "import numpy as np\n",
    "from tensorflow import keras\n",
    "import tensorflow as tf\n",
    "import matplotlib.pyplot as plt\n",
    "from keras.models import Model\n",
    "from sklearn.metrics import accuracy_score, precision_score, recall_score"
   ]
  },
  {
   "cell_type": "code",
   "execution_count": 2,
   "id": "90fc5822",
   "metadata": {},
   "outputs": [],
   "source": [
    "\n",
    "\n",
    "#load the data set and split in training and testing\n",
    "(x_train,y_train),(x_test,y_test)=keras.datasets.fashion_mnist.load_data()"
   ]
  },
  {
   "cell_type": "code",
   "execution_count": 3,
   "id": "e61bc23c",
   "metadata": {},
   "outputs": [],
   "source": [
    "\n",
    "\n",
    "#normalization of the data\n",
    "x_train=x_train/255.\n",
    "x_test=x_test/255."
   ]
  },
  {
   "cell_type": "code",
   "execution_count": 4,
   "id": "726f4ff8",
   "metadata": {},
   "outputs": [
    {
     "data": {
      "text/plain": [
       "((60000, 28, 28), (10000, 28, 28))"
      ]
     },
     "execution_count": 4,
     "metadata": {},
     "output_type": "execute_result"
    }
   ],
   "source": [
    "x_train.shape,x_test.shape"
   ]
  },
  {
   "cell_type": "code",
   "execution_count": 5,
   "id": "8e4742bc",
   "metadata": {},
   "outputs": [
    {
     "data": {
      "text/plain": [
       "<matplotlib.image.AxesImage at 0x1c8e4ff36a0>"
      ]
     },
     "execution_count": 5,
     "metadata": {},
     "output_type": "execute_result"
    },
    {
     "data": {
      "image/png": "[encoded data removed]",
      "text/plain": [
       "<Figure size 432x288 with 1 Axes>"
      ]
     },
     "metadata": {
      "needs_background": "light"
     },
     "output_type": "display_data"
    }
   ],
   "source": [
    "plt.imshow(x_train[6])"
   ]
  },
  {
   "cell_type": "code",
   "execution_count": 6,
   "id": "fe21ba64",
   "metadata": {},
   "outputs": [],
   "source": [
    "# size of the latent spaces is vector\n",
    "latent_dim = 64     \n",
    "class Autoencoder(Model):\n",
    "  def __init__(self, latent_dim):\n",
    "    super(Autoencoder, self).__init__()     #function\n",
    "    self.latent_dim = latent_dim   \n",
    "    \n",
    "    self.encoder = keras.Sequential([\n",
    "      keras.layers.Flatten(),\n",
    "      keras.layers.Dense(latent_dim, activation='relu'),\n",
    "    ])\n",
    "    self.decoder = keras.Sequential([\n",
    "      keras.layers.Dense(784, activation='sigmoid'),\n",
    "      keras.layers.Reshape((28, 28))\n",
    "    ])\n",
    "\n",
    "  def call(self, x):\n",
    "    encoded = self.encoder(x)\n",
    "    decoded = self.decoder(encoded)\n",
    "    return decoded\n",
    "\n",
    "autoencoder = Autoencoder(latent_dim)"
   ]
  },
  {
   "cell_type": "code",
   "execution_count": 7,
   "id": "84cf6a9a",
   "metadata": {},
   "outputs": [
    {
     "name": "stdout",
     "output_type": "stream",
     "text": [
      "Epoch 1/10\n",
      "1875/1875 [==============================] - 8s 4ms/step - loss: 0.0238 - val_loss: 0.0132\n",
      "Epoch 2/10\n",
      "1875/1875 [==============================] - 7s 3ms/step - loss: 0.0117 - val_loss: 0.0106\n",
      "Epoch 3/10\n",
      "1875/1875 [==============================] - 7s 3ms/step - loss: 0.0100 - val_loss: 0.0097\n",
      "Epoch 4/10\n",
      "1875/1875 [==============================] - 7s 3ms/step - loss: 0.0095 - val_loss: 0.0093\n",
      "Epoch 5/10\n",
      "1875/1875 [==============================] - 7s 4ms/step - loss: 0.0092 - val_loss: 0.0091\n",
      "Epoch 6/10\n",
      "1875/1875 [==============================] - 7s 3ms/step - loss: 0.0090 - val_loss: 0.0091\n",
      "Epoch 7/10\n",
      "1875/1875 [==============================] - 7s 3ms/step - loss: 0.0089 - val_loss: 0.0090\n",
      "Epoch 8/10\n",
      "1875/1875 [==============================] - 7s 3ms/step - loss: 0.0088 - val_loss: 0.0089\n",
      "Epoch 9/10\n",
      "1875/1875 [==============================] - 7s 3ms/step - loss: 0.0088 - val_loss: 0.0088\n",
      "Epoch 10/10\n",
      "1875/1875 [==============================] - 7s 4ms/step - loss: 0.0087 - val_loss: 0.0088\n"
     ]
    },
    {
     "data": {
      "text/plain": [
       "<keras.callbacks.History at 0x1c8e3c472b0>"
      ]
     },
     "execution_count": 7,
     "metadata": {},
     "output_type": "execute_result"
    }
   ],
   "source": [
    "#compile the model\n",
    "autoencoder.compile(optimizer='adam',\n",
    "                    loss = 'mse')   #mean squared error\n",
    "                   \n",
    "                   \n",
    "#train\n",
    "autoencoder.fit(x_train, x_train,validation_data=(x_test, x_test),epochs=10)"
   ]
  },
  {
   "cell_type": "code",
   "execution_count": 8,
   "id": "9375983e",
   "metadata": {},
   "outputs": [
    {
     "data": {
      "text/plain": [
       "<matplotlib.image.AxesImage at 0x1c8e3f7c190>"
      ]
     },
     "execution_count": 8,
     "metadata": {},
     "output_type": "execute_result"
    },
    {
     "data": {
      "image/png": "[encoded data removed]",
      "text/plain": [
       "<Figure size 432x288 with 1 Axes>"
      ]
     },
     "metadata": {
      "needs_background": "light"
     },
     "output_type": "display_data"
    }
   ],
   "source": [
    "\n",
    "e_imgs = autoencoder.encoder(x_test).numpy() #encoded image convert into array\n",
    "d_imgs = autoencoder.decoder(e_imgs).numpy()\n",
    "\n",
    "plt.imshow(x_test[1])"
   ]
  },
  {
   "cell_type": "code",
   "execution_count": 9,
   "id": "e48e9588",
   "metadata": {},
   "outputs": [
    {
     "data": {
      "text/plain": [
       "<matplotlib.image.AxesImage at 0x1c8e4006440>"
      ]
     },
     "execution_count": 9,
     "metadata": {},
     "output_type": "execute_result"
    },
    {
     "data": {
      "image/png": "[encoded data removed]",
      "text/plain": [
       "<Figure size 432x288 with 1 Axes>"
      ]
     },
     "metadata": {
      "needs_background": "light"
     },
     "output_type": "display_data"
    }
   ],
   "source": [
    "plt.imshow(d_imgs[1])"
   ]
  },
  {
   "cell_type": "code",
   "execution_count": 15,
   "id": "cceb51ee",
   "metadata": {},
   "outputs": [
    {
     "name": "stdout",
     "output_type": "stream",
     "text": [
      "1875/1875 [==============================] - 5s 3ms/step - loss: 0.0086\n"
     ]
    }
   ],
   "source": [
    "train_loss=autoencoder.evaluate(x_train,x_train)"
   ]
  },
  {
   "cell_type": "code",
   "execution_count": 16,
   "id": "adab6cf3",
   "metadata": {},
   "outputs": [
    {
     "name": "stdout",
     "output_type": "stream",
     "text": [
      "Threshold = 0.008638858795166016\n"
     ]
    }
   ],
   "source": [
    "threshold = np.mean(train_loss) + np.std(train_loss)\n",
    "print(\"Threshold =\", threshold)"
   ]
  },
  {
   "cell_type": "code",
   "execution_count": null,
   "id": "03f394ef",
   "metadata": {},
   "outputs": [],
   "source": [
    "# Threashold Definition\n",
    "# From loss value, define threashold to calssify normal or not.\n",
    "# In this tutorial, define threashold using only normal data because we assume that there aren't anomaly data.\n",
    "# Simply determine threashold using max loss value in the normal data.\n",
    "# If the loss of input data is less than or equal to threashold, classify it as normal.\n",
    "\n",
    "# reconstructions = autoencoder(x_test)\n",
    "# loss = tf.keras.losses.mae(reconstructions, x_test)\n",
    "# preds = tf.math.less(loss, threshold)\n",
    "\n",
    "# print(loss)\n",
    "# print(preds)\n",
    "\n",
    "# print(\"Accuracy =\", (accuracy_score(x_test, preds)))\n",
    "# print(\"Precision =\", (precision_score(x_test, preds)))\n",
    "# print(\"Recall =\", (recall_score(x_test, preds)))"
   ]
  }
 ],
 "metadata": {
  "kernelspec": {
   "display_name": "Python 3 (ipykernel)",
   "language": "python",
   "name": "python3"
  },
  "language_info": {
   "codemirror_mode": {
    "name": "ipython",
    "version": 3
   },
   "file_extension": ".py",
   "mimetype": "text/x-python",
   "name": "python",
   "nbconvert_exporter": "python",
   "pygments_lexer": "ipython3",
   "version": "3.9.7"
  }
 },
 "nbformat": 4,
 "nbformat_minor": 5
}
